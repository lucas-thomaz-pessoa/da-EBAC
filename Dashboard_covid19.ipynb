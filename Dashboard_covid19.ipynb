{
  "nbformat": 4,
  "nbformat_minor": 0,
  "metadata": {
    "colab": {
      "provenance": [],
      "authorship_tag": "ABX9TyOz1q6zQwe41SErN4fNjAuK"
    },
    "kernelspec": {
      "name": "python3",
      "display_name": "Python 3"
    },
    "language_info": {
      "name": "python"
    }
  },
  "cells": [
    {
      "cell_type": "markdown",
      "metadata": {
        "id": "muD1vxozykSC"
      },
      "source": [
        "## 1\\. Introdução"
      ]
    },
    {
      "cell_type": "markdown",
      "metadata": {
        "id": "MHESfVrl-rPV"
      },
      "source": [
        "### **1.1. TLDR**"
      ]
    },
    {
      "cell_type": "markdown",
      "source": [
        " - **Dashboard**:\n",
        "  - Google Data Studio (`link`).\n",
        " - **Processamento**:\n",
        "  - Kaggle Notebook (`link`).\n",
        " - **Fontes**:\n",
        "  - Casos pela universidade John Hopkins ([link](https://github.com/CSSEGISandData/COVID-19/tree/master/csse_covid_19_data/csse_covid_19_daily_reports));\n",
        "  - Vacinação pela universidade de Oxford ([link](https://covid.ourworldindata.org/data/owid-covid-data.csv))."
      ],
      "metadata": {
        "id": "Kbt89uW55ynj"
      }
    },
    {
      "cell_type": "markdown",
      "source": [
        "### **1.2. Pandemia Coronavírus 2019**"
      ],
      "metadata": {
        "id": "uBq6aQxeB4r0"
      }
    },
    {
      "cell_type": "markdown",
      "source": [
        "> A COVID-19 é uma infecção respiratória aguda causada pelo coronavírus SARS-CoV-2, potencialmente grave, de elevada transmissibilidade e de distribuição global. Fonte: Governo brasileiro ([link](https://www.gov.br/saude/pt-br/coronavirus/o-que-e-o-coronavirus))."
      ],
      "metadata": {
        "id": "caKO04G0tzxc"
      }
    },
    {
      "cell_type": "markdown",
      "metadata": {
        "id": "UrsxlQhH7WrD"
      },
      "source": [
        "A disponibilidade de dados sobre a evolução da pandemia no tempo em uma determinada região geográfica é fundamental para o seu combate! Este projeto busca construir um dashboard de dados para exploração e visualização interativa de dados sobre o avanço de casos e da vacinação do Brasil. O processamento de dados está neste `link` e o dashboard, neste `link`."
      ]
    },
    {
      "cell_type": "markdown",
      "source": [
        "### **1.3. Dados**"
      ],
      "metadata": {
        "id": "oo-6n3_GH0CT"
      }
    },
    {
      "cell_type": "markdown",
      "source": [
        "Os dados sobre **casos da COVID-19** são compilados pelo centro de ciência de sistemas e engenharia da universidade americana **John Hopkins** ([link](https://www.jhu.edu)). Os dados são atualizados diariamente deste janeiro de 2020 com uma granularidade temporal de dias e geográfica de regiões de países (estados, condados, etc.). O website do projeto pode ser acessado neste [link](https://systems.jhu.edu/research/public-health/ncov/) enquanto os dados, neste [link](https://github.com/CSSEGISandData/COVID-19/tree/master/csse_covid_19_data/csse_covid_19_daily_reports). Abaixo estão descritos os dados derivados do seu processamento."
      ],
      "metadata": {
        "id": "q9Kj_d3c3Hmd"
      }
    },
    {
      "cell_type": "markdown",
      "source": [
        " - **date**: data de referência;\n",
        " - **state**: estado;\n",
        " - **country**: país;\n",
        " - **population**: população estimada;\n",
        " - **confirmed**: número acumulado de infectados;\n",
        " - **confirmed_1d**: número diário de infectados;\n",
        " - **confirmed_moving_avg_7d**: média móvel de 7 dias do número diário de infectados;\n",
        " - **confirmed_moving_avg_7d_rate_14d**: média móvel de 7 dias dividido pela média móvel de 7 dias de 14 dias atrás;\n",
        " - **deaths**: número acumulado de mortos;\n",
        " - **deaths_1d**: número diário de mortos;\n",
        " - **deaths_moving_avg_7d**: média móvel de 7 dias do número diário de mortos;\n",
        " - **deaths_moving_avg_7d**: média móvel de 7 dias dividido pela média móvel de 7 dias de 14 dias atrás;\n",
        " - **month**: mês de referência;\n",
        " - **year**: ano de referência."
      ],
      "metadata": {
        "id": "7hKS37TRwvG7"
      }
    },
    {
      "cell_type": "markdown",
      "source": [
        "Os dados sobre **vacinação da COVID-19** são compilados pelo projeto Nosso Mundo em Dados (*Our World in Data* ou OWID) da universidade britânica de **Oxford** ([link](https://www.ox.ac.uk)). Os dados são **atualizados diariamente** deste janeiro de 2020 com uma **granularidade temporal de dias e geográfica de países**. O website do projeto pode ser acessado neste [link](https://ourworldindata.org) enquanto os dados, neste [link](https://covid.ourworldindata.org/data/owid-covid-data.csv). Abaixo estão descritos os dados derivados do seu processamento."
      ],
      "metadata": {
        "id": "Io6Yn0Yi7woI"
      }
    },
    {
      "cell_type": "markdown",
      "source": [
        " - **date**: data de referência;\n",
        " - **country**: país;\n",
        " - **population**: população estimada;\n",
        " - **total**: número acumulado de doses administradas;\n",
        " - **one_shot**: número acumulado de pessoas com uma dose;\n",
        " - **one_shot_perc**: número acumulado relativo de pessoas com uma dose;\n",
        " - **two_shots**: número acumulado de pessoas com duas doses;\n",
        " - **two_shot_perc**: número acumulado relativo de pessoas com duas doses;\n",
        " - **three_shots**: número acumulado de pessoas com três doses;\n",
        " - **three_shot_perc**: número acumulado relativo de pessoas com três doses;\n",
        " - **month**: mês de referência;\n",
        " - **year**: ano de referência."
      ],
      "metadata": {
        "id": "oF5oDfm07woK"
      }
    },
    {
      "cell_type": "markdown",
      "source": [
        "## 2\\. Análise Exploratória de Dados"
      ],
      "metadata": {
        "id": "EkVv4SCzIrxS"
      }
    },
    {
      "cell_type": "markdown",
      "source": [
        "Nesta sessão vamos utilizar os seguintes pacotes Python para processar os dados bruto em um formato adequado para um painel para exploração interativa de dados."
      ],
      "metadata": {
        "id": "5qb_q_g0W1xq"
      }
    },
    {
      "cell_type": "code",
      "execution_count": 1,
      "metadata": {
        "id": "O4E4j1kMC9Ej"
      },
      "outputs": [],
      "source": [
        "import math\n",
        "from typing import Iterator\n",
        "from datetime import datetime, timedelta\n",
        "\n",
        "import numpy as np\n",
        "import pandas as pd"
      ]
    },
    {
      "cell_type": "markdown",
      "source": [
        "### **2.1. Casos**"
      ],
      "metadata": {
        "id": "aP2Dlk9kOqCf"
      }
    },
    {
      "cell_type": "markdown",
      "source": [
        "Vamos processar os dados de **casos** da universidade John Hopkins. Os dados estão organizados em um arquivo por dia. Assim sendo, Será necessário interar dentro de um intervalo de tempo para extrair-los\n",
        "\n"
      ],
      "metadata": {
        "id": "8L5p6NGWaeSi"
      }
    },
    {
      "cell_type": "code",
      "source": [
        "def intervalo_tempo(inicio: datetime, final: datetime) -> Iterator[datetime]:\n",
        "  dias: int = (final - inicio).days\n",
        "  for dia in range(dias):\n",
        "    yield inicio + timedelta(dia)"
      ],
      "metadata": {
        "id": "gpJpXsn9FE7z"
      },
      "execution_count": 2,
      "outputs": []
    },
    {
      "cell_type": "code",
      "source": [
        "data_inicio = datetime(2020, 12, 11)\n",
        "data_final = datetime(2022, 1, 1)"
      ],
      "metadata": {
        "id": "YarIZk31IMc6"
      },
      "execution_count": 3,
      "outputs": []
    },
    {
      "cell_type": "markdown",
      "source": [
        "**Observação**\n",
        "****\n",
        "Repare que, embora o intervalo a ser analisado seja o ano de 2021, incluí na análise os 21 dias finais do ano de 2020."
      ],
      "metadata": {
        "id": "mBlqipriI7L3"
      }
    },
    {
      "cell_type": "code",
      "source": [
        "cases = None\n",
        "cases_is_empty = True\n",
        "\n",
        "for date in intervalo_tempo(inicio = data_inicio, final = data_final):\n",
        "\n",
        "  date_str = date.strftime('%m-%d-%Y')\n",
        "  url_fonte = f'https://raw.githubusercontent.com/CSSEGISandData/COVID-19/master/csse_covid_19_data/csse_covid_19_daily_reports/{date_str}.csv'\n",
        "\n",
        "  caso = pd.read_csv(url_fonte, sep=',')\n",
        "  caso = caso.drop(['FIPS', 'Admin2', 'Last_Update', 'Lat', 'Long_', 'Recovered',\n",
        "                    'Active', 'Combined_Key', 'Case_Fatality_Ratio'], axis=1)\n",
        "  caso = caso.query('Country_Region == \"Brazil\"').reset_index(drop=True)\n",
        "  caso['Date'] = pd.to_datetime(date.strftime('%Y-%m-%d'))\n",
        "\n",
        "  if cases_is_empty:\n",
        "    cases = caso\n",
        "    cases_is_empty = False\n",
        "  else:\n",
        "    cases = pd.concat([cases, caso], ignore_index=True)"
      ],
      "metadata": {
        "id": "WmOSiirdJ7be"
      },
      "execution_count": 4,
      "outputs": []
    },
    {
      "cell_type": "markdown",
      "source": [
        "#### **2.1.1. Wrangling**"
      ],
      "metadata": {
        "id": "Z3HiqQRkOMGc"
      }
    },
    {
      "cell_type": "markdown",
      "source": [
        "Vamos manipular os dados para o dashboard. O foco é em garantir uma boa granularidade e qualidade da base de dados. Vamos ajustar o nome das colunas padronizadas em minúsculas e utilizando nomes mais simples. Também modificaremos o nome dos estados brasileiros incluindo o ascento gráfico para poder utilizar a ferramenta de georefferenciamento do google data studio. Por fim, vamos adicionar algumas colunas contendo chaves de mês e ano e adicionar colunas com estimativa populacional e métricas como média móvel e estabilidade."
      ],
      "metadata": {
        "id": "ceDNL40JzB0K"
      }
    },
    {
      "cell_type": "code",
      "source": [
        "cases.info()"
      ],
      "metadata": {
        "colab": {
          "base_uri": "https://localhost:8080/"
        },
        "id": "ZNMXau6CVpP6",
        "outputId": "43108a01-2642-42d0-91ef-7847c748b8ae"
      },
      "execution_count": 5,
      "outputs": [
        {
          "output_type": "stream",
          "name": "stdout",
          "text": [
            "<class 'pandas.core.frame.DataFrame'>\n",
            "RangeIndex: 10422 entries, 0 to 10421\n",
            "Data columns (total 6 columns):\n",
            " #   Column          Non-Null Count  Dtype         \n",
            "---  ------          --------------  -----         \n",
            " 0   Province_State  10422 non-null  object        \n",
            " 1   Country_Region  10422 non-null  object        \n",
            " 2   Confirmed       10422 non-null  int64         \n",
            " 3   Deaths          10422 non-null  int64         \n",
            " 4   Incident_Rate   10422 non-null  float64       \n",
            " 5   Date            10422 non-null  datetime64[ns]\n",
            "dtypes: datetime64[ns](1), float64(1), int64(2), object(2)\n",
            "memory usage: 488.7+ KB\n"
          ]
        }
      ]
    },
    {
      "cell_type": "code",
      "source": [
        "cases = cases.rename(columns={'Province_State': 'state', 'Country_Region': 'country'})\n",
        "\n",
        "for coluna in cases.columns:\n",
        "  cases = cases.rename(columns={coluna: coluna.lower()})\n",
        "\n",
        "states_map = {\n",
        "    'Amapa': 'Amapá',\n",
        "    'Ceara': 'Ceará',\n",
        "    'Espirito Santo': 'Espírito Santo',\n",
        "    'Goias': 'Goiás',\n",
        "    'Para': 'Pará',\n",
        "    'Paraiba': 'Paraíba',\n",
        "    'Parana': 'Paraná',\n",
        "    'Piaui': 'Piauí',\n",
        "    'Rondonia': 'Rondônia',\n",
        "    'Sao Paulo': 'São Paulo'\n",
        "}\n",
        "\n",
        "cases['state'] = cases['state'].apply(lambda state: states_map.get(state) if state in states_map.keys() else state)\n",
        "cases['month'] = cases['date'].apply(lambda x: x.strftime('%Y-%m'))\n",
        "cases['year'] = cases['date'].apply(lambda x: x.strftime('%Y'))\n",
        "cases['population'] = round(100000 * (cases['confirmed']/cases['incident_rate']))\n",
        "cases = cases.drop('incident_rate', axis=1)"
      ],
      "metadata": {
        "id": "m_lCWy_JVwdJ"
      },
      "execution_count": 6,
      "outputs": []
    },
    {
      "cell_type": "code",
      "source": [
        "\n",
        "cases_ = None\n",
        "cases_is_empty = True\n",
        "\n",
        "def get_trend(rate: float) -> str:\n",
        "\n",
        "  if np.isnan(rate):\n",
        "    return np.NaN\n",
        "\n",
        "  if rate <= 0.85:\n",
        "    status = 'downward'\n",
        "  elif rate >= 1.15:\n",
        "    status = 'upward'\n",
        "  else:\n",
        "    status = 'stable'\n",
        "\n",
        "  return status\n",
        "\n",
        "for state in cases['state'].drop_duplicates():\n",
        "\n",
        "  cases_per_state = cases.query(f'state == \"{state}\"').reset_index(drop=True)\n",
        "  cases_per_state = cases_per_state.sort_values(by=['date'])\n",
        "\n",
        "  cases_per_state['confirmed_1d'] = cases_per_state['confirmed'].diff(periods=1)\n",
        "  cases_per_state['confirmed_moving_avg_7d'] = np.ceil(cases_per_state['confirmed_1d'].rolling(window=7).mean())\n",
        "  cases_per_state['confirmed_moving_avg_7d_rate_14d'] = cases_per_state['confirmed_moving_avg_7d']/cases_per_state['confirmed_moving_avg_7d'].shift(periods=14)\n",
        "  cases_per_state['confirmed_trend'] = cases_per_state['confirmed_moving_avg_7d_rate_14d'].apply(get_trend)\n",
        "\n",
        "  cases_per_state['deaths_1d'] = cases_per_state['deaths'].diff(periods=1)\n",
        "  cases_per_state['deaths_moving_avg_7d'] = np.ceil(cases_per_state['deaths_1d'].rolling(window=7).mean())\n",
        "  cases_per_state['deaths_moving_avg_7d_rate_14d'] = cases_per_state['deaths_moving_avg_7d']/cases_per_state['deaths_moving_avg_7d'].shift(periods=14)\n",
        "  cases_per_state['deaths_trend'] = cases_per_state['deaths_moving_avg_7d_rate_14d'].apply(get_trend)\n",
        "\n",
        "  if cases_is_empty:\n",
        "    cases_ = cases_per_state\n",
        "    cases_is_empty = False\n",
        "  else:\n",
        "    cases_ = pd.concat([cases_, cases_per_state], ignore_index=True)\n"
      ],
      "metadata": {
        "id": "fzY9GPNW6n7e"
      },
      "execution_count": 7,
      "outputs": []
    },
    {
      "cell_type": "code",
      "source": [
        "cases.info()"
      ],
      "metadata": {
        "colab": {
          "base_uri": "https://localhost:8080/"
        },
        "id": "-ErXEBaBB2r0",
        "outputId": "7f90ac5f-80e7-4d6e-fdbe-4102580115d5"
      },
      "execution_count": 8,
      "outputs": [
        {
          "output_type": "stream",
          "name": "stdout",
          "text": [
            "<class 'pandas.core.frame.DataFrame'>\n",
            "RangeIndex: 10422 entries, 0 to 10421\n",
            "Data columns (total 8 columns):\n",
            " #   Column      Non-Null Count  Dtype         \n",
            "---  ------      --------------  -----         \n",
            " 0   state       10422 non-null  object        \n",
            " 1   country     10422 non-null  object        \n",
            " 2   confirmed   10422 non-null  int64         \n",
            " 3   deaths      10422 non-null  int64         \n",
            " 4   date        10422 non-null  datetime64[ns]\n",
            " 5   month       10422 non-null  object        \n",
            " 6   year        10422 non-null  object        \n",
            " 7   population  10422 non-null  float64       \n",
            "dtypes: datetime64[ns](1), float64(1), int64(2), object(4)\n",
            "memory usage: 651.5+ KB\n"
          ]
        }
      ]
    },
    {
      "cell_type": "code",
      "source": [
        "cases = cases_"
      ],
      "metadata": {
        "id": "HlSm5DDOCLPS"
      },
      "execution_count": 9,
      "outputs": []
    },
    {
      "cell_type": "code",
      "source": [
        "# Fazendo um type casting para as novas colunas\n",
        "\n",
        "cases['population'] = cases['population'].astype('Int64')\n",
        "cases['confirmed_1d'] = cases['confirmed_1d'].astype('Int64')\n",
        "cases['confirmed_moving_avg_7d'] = cases['confirmed_moving_avg_7d'].astype('Int64')\n",
        "cases['deaths_1d'] = cases['deaths_1d'].astype('Int64')\n",
        "cases['deaths_moving_avg_7d'] = cases['deaths_moving_avg_7d'].astype('Int64')"
      ],
      "metadata": {
        "id": "o64kK8BKJwcq"
      },
      "execution_count": 10,
      "outputs": []
    },
    {
      "cell_type": "code",
      "source": [
        "# Reorganizando as colunas\n",
        "\n",
        "cases = cases[['date', 'country', 'state', 'population', 'confirmed', 'confirmed_1d',\n",
        "               'confirmed_moving_avg_7d', 'confirmed_moving_avg_7d_rate_14d',\n",
        "               'confirmed_trend', 'deaths', 'deaths_1d', 'deaths_moving_avg_7d',\n",
        "               'deaths_moving_avg_7d_rate_14d', 'deaths_trend', 'month', 'year']]"
      ],
      "metadata": {
        "id": "9Qh0W1zGKgzY"
      },
      "execution_count": 11,
      "outputs": []
    },
    {
      "cell_type": "code",
      "source": [
        "# Selecionando os dados de 2021\n",
        "\n",
        "cases = cases.query('year == \"2021\"').reset_index(drop=True)"
      ],
      "metadata": {
        "id": "ztvORM_Q9AgP"
      },
      "execution_count": 12,
      "outputs": []
    },
    {
      "cell_type": "code",
      "source": [
        "cases.tail(n=31)"
      ],
      "metadata": {
        "id": "y939GN2k4tEd"
      },
      "execution_count": null,
      "outputs": []
    },
    {
      "cell_type": "code",
      "source": [
        "# Criando o arquivo CSV para ser utilizado no Google Data Studio\n",
        "\n",
        "cases.to_csv('./covid-cases.csv', sep=',', index=False)"
      ],
      "metadata": {
        "id": "N7-NlZQ0LEUS"
      },
      "execution_count": 14,
      "outputs": []
    },
    {
      "cell_type": "markdown",
      "source": [
        "### **2.2. Vacinação**"
      ],
      "metadata": {
        "id": "ndJlwEdGpvRO"
      }
    },
    {
      "cell_type": "markdown",
      "source": [
        "Os dados de **vacinação** terão como fonte os dados obtidos da universidade de Oxford. Desta vez, teremos as informações de interesse armazenadas em um único arquivo, o que facilitará nosso processo. Apenas iremos selecionar os dados de interesse e manipular para que tenham uma granularidade adequada.  "
      ],
      "metadata": {
        "id": "4KimqDnGbHbI"
      }
    },
    {
      "cell_type": "code",
      "source": [
        "vaccines = pd.read_csv('https://covid.ourworldindata.org/data/owid-covid-data.csv', sep=',', parse_dates=[3], infer_datetime_format=True)\n",
        "\n",
        "vaccines = vaccines.query('location == \"Brazil\"').reset_index(drop=True)\n",
        "vaccines = vaccines[['location', 'population', 'total_vaccinations', 'people_vaccinated', 'people_fully_vaccinated', 'total_boosters', 'date']]"
      ],
      "metadata": {
        "id": "3ya15w_r74Zc"
      },
      "execution_count": null,
      "outputs": []
    },
    {
      "cell_type": "code",
      "source": [
        "vaccines.info()"
      ],
      "metadata": {
        "colab": {
          "base_uri": "https://localhost:8080/"
        },
        "id": "pwRE7Deh_MKZ",
        "outputId": "5c5c466b-69d5-4bb2-fcd0-a58d0e4db4a1"
      },
      "execution_count": null,
      "outputs": [
        {
          "output_type": "stream",
          "name": "stdout",
          "text": [
            "<class 'pandas.core.frame.DataFrame'>\n",
            "RangeIndex: 1336 entries, 0 to 1335\n",
            "Data columns (total 7 columns):\n",
            " #   Column                   Non-Null Count  Dtype         \n",
            "---  ------                   --------------  -----         \n",
            " 0   location                 1336 non-null   object        \n",
            " 1   population               1336 non-null   float64       \n",
            " 2   total_vaccinations       695 non-null    float64       \n",
            " 3   people_vaccinated        691 non-null    float64       \n",
            " 4   people_fully_vaccinated  675 non-null    float64       \n",
            " 5   total_boosters           455 non-null    float64       \n",
            " 6   date                     1336 non-null   datetime64[ns]\n",
            "dtypes: datetime64[ns](1), float64(5), object(1)\n",
            "memory usage: 73.2+ KB\n"
          ]
        }
      ]
    },
    {
      "cell_type": "markdown",
      "source": [
        "**Observação**\n",
        "****\n",
        "Quando analisamos os dados obtidos, percebemos que algumas colunas possuem dados faltantes, todos eles relacionados ao número de vacinados. Para tratar desses valores nulos, vamos preenche-los com o último valor válido. Como se trata de um número acumulativo, não devemos ter problemas."
      ],
      "metadata": {
        "id": "-kqsmn0G_Zif"
      }
    },
    {
      "cell_type": "code",
      "source": [
        "vaccines = vaccines.fillna(method='ffill')"
      ],
      "metadata": {
        "id": "uB6by1fiAEoQ"
      },
      "execution_count": null,
      "outputs": []
    },
    {
      "cell_type": "code",
      "source": [
        "# Agora possuímos valores mais consistentes\n",
        "vaccines.info()"
      ],
      "metadata": {
        "colab": {
          "base_uri": "https://localhost:8080/"
        },
        "id": "7j0mwPFlANox",
        "outputId": "5f7c7c57-bcca-4c4c-ba6d-c58a5bc75a99"
      },
      "execution_count": null,
      "outputs": [
        {
          "output_type": "stream",
          "name": "stdout",
          "text": [
            "<class 'pandas.core.frame.DataFrame'>\n",
            "RangeIndex: 1336 entries, 0 to 1335\n",
            "Data columns (total 7 columns):\n",
            " #   Column                   Non-Null Count  Dtype         \n",
            "---  ------                   --------------  -----         \n",
            " 0   location                 1336 non-null   object        \n",
            " 1   population               1336 non-null   float64       \n",
            " 2   total_vaccinations       956 non-null    float64       \n",
            " 3   people_vaccinated        956 non-null    float64       \n",
            " 4   people_fully_vaccinated  937 non-null    float64       \n",
            " 5   total_boosters           728 non-null    float64       \n",
            " 6   date                     1336 non-null   datetime64[ns]\n",
            "dtypes: datetime64[ns](1), float64(5), object(1)\n",
            "memory usage: 73.2+ KB\n"
          ]
        }
      ]
    },
    {
      "cell_type": "code",
      "source": [
        "# Vamos selecionar o período de interesse, renomear as colunas e adicionar outras\n",
        "# colunas de interesses, como as de chave temporal e as que contém dados relativos.\n",
        "\n",
        "vaccines = vaccines[(vaccines['date'] >= '2021-01-01') & (vaccines['date'] <= '2021-12-31')].reset_index(drop=True)\n",
        "\n",
        "vaccines = vaccines.rename(columns={'location': 'country',\n",
        "    'total_vaccinations': 'total',\n",
        "    'people_vaccinated': 'one_shot',\n",
        "    'people_fully_vaccinated': 'two_shots',\n",
        "    'total_boosters': 'three_shots'})\n",
        "\n",
        "vaccines['month'] = vaccines['date'].apply(lambda date: date.strftime('%Y-%m'))\n",
        "vaccines['year']  = vaccines['date'].apply(lambda date: date.strftime('%Y'))\n",
        "\n",
        "vaccines['one_shot_perc'] = round(vaccines['one_shot'] / vaccines['population'], 4)\n",
        "vaccines['two_shots_perc'] = round(vaccines['two_shots'] / vaccines['population'], 4)\n",
        "vaccines['three_shots_perc'] = round(vaccines['three_shots'] / vaccines['population'], 4)"
      ],
      "metadata": {
        "id": "ph1IS5CGBH52"
      },
      "execution_count": null,
      "outputs": []
    },
    {
      "cell_type": "code",
      "source": [
        "# Agora vamos realizar o type casting\n",
        "\n",
        "vaccines['population'] = vaccines['population'].astype('Int64')\n",
        "vaccines['total'] = vaccines['total'].astype('Int64')\n",
        "vaccines['one_shot'] = vaccines['one_shot'].astype('Int64')\n",
        "vaccines['two_shots'] = vaccines['two_shots'].astype('Int64')\n",
        "vaccines['three_shots'] = vaccines['three_shots'].astype('Int64')"
      ],
      "metadata": {
        "id": "AU3ouU9-Epxh"
      },
      "execution_count": null,
      "outputs": []
    },
    {
      "cell_type": "code",
      "source": [
        "# Finalmente, vamos reorganizar as colunas\n",
        "\n",
        "vaccines = vaccines[['date', 'country', 'population', 'total', 'one_shot',\n",
        "                     'one_shot_perc', 'two_shots', 'two_shots_perc', 'three_shots',\n",
        "                     'three_shots_perc', 'month', 'year']]"
      ],
      "metadata": {
        "id": "MNCk7cI1FJB9"
      },
      "execution_count": null,
      "outputs": []
    },
    {
      "cell_type": "code",
      "source": [
        "vaccines.head(n=20)"
      ],
      "metadata": {
        "id": "WZX0Hh9qFaYy"
      },
      "execution_count": null,
      "outputs": []
    },
    {
      "cell_type": "code",
      "source": [
        "vaccines.tail(n=20)"
      ],
      "metadata": {
        "id": "o7zGV_3yFeq_"
      },
      "execution_count": null,
      "outputs": []
    },
    {
      "cell_type": "code",
      "source": [
        "# Carregando  os dados relativos a vacinação do Brasil\n",
        "\n",
        "vaccines.to_csv('./covid-vaccines.csv', sep=',', index=False)"
      ],
      "metadata": {
        "id": "R9eq_TyKGDv_"
      },
      "execution_count": null,
      "outputs": []
    },
    {
      "cell_type": "markdown",
      "source": [
        "###**2.2.1** Dados Extras"
      ],
      "metadata": {
        "id": "4mzhH6_cT0iN"
      }
    },
    {
      "cell_type": "code",
      "source": [
        "# Agora vamos repetir o processo de extração de dados de vacinação com outros países sul americanos\n",
        "\n",
        "vaccines = pd.read_csv('https://covid.ourworldindata.org/data/owid-covid-data.csv', sep=',', parse_dates=[3], infer_datetime_format=True)\n",
        "\n",
        "vaccines = vaccines.query('location == \"Argentina\"').reset_index(drop=True)\n",
        "vaccines = vaccines[['location', 'population', 'total_vaccinations', 'people_vaccinated', 'people_fully_vaccinated', 'total_boosters', 'date']]\n",
        "\n",
        "vaccines = vaccines.fillna(method='ffill')\n",
        "\n",
        "vaccines = vaccines[(vaccines['date'] >= '2021-01-01') & (vaccines['date'] <= '2021-12-31')].reset_index(drop=True)\n",
        "\n",
        "vaccines = vaccines.rename(columns={'location': 'country',\n",
        "    'total_vaccinations': 'total',\n",
        "    'people_vaccinated': 'one_shot',\n",
        "    'people_fully_vaccinated': 'two_shots',\n",
        "    'total_boosters': 'three_shots'})\n",
        "\n",
        "vaccines['month'] = vaccines['date'].apply(lambda date: date.strftime('%Y-%m'))\n",
        "vaccines['year']  = vaccines['date'].apply(lambda date: date.strftime('%Y'))\n",
        "\n",
        "vaccines['one_shot_perc'] = round(vaccines['one_shot'] / vaccines['population'], 4)\n",
        "vaccines['two_shots_perc'] = round(vaccines['two_shots'] / vaccines['population'], 4)\n",
        "vaccines['three_shots_perc'] = round(vaccines['three_shots'] / vaccines['population'], 4)\n",
        "\n",
        "vaccines['population'] = vaccines['population'].astype('Int64')\n",
        "vaccines['total'] = vaccines['total'].astype('Int64')\n",
        "vaccines['one_shot'] = vaccines['one_shot'].astype('Int64')\n",
        "vaccines['two_shots'] = vaccines['two_shots'].astype('Int64')\n",
        "vaccines['three_shots'] = vaccines['three_shots'].astype('Int64')\n",
        "\n",
        "vaccines = vaccines[['date', 'country', 'population', 'total', 'one_shot',\n",
        "                     'one_shot_perc', 'two_shots', 'two_shots_perc', 'three_shots',\n",
        "                     'three_shots_perc', 'month', 'year']]\n",
        "\n",
        "vaccines.to_csv('./argentina-vaccines.csv', sep=',', index=False)"
      ],
      "metadata": {
        "id": "OuHVqQwUT0LU"
      },
      "execution_count": null,
      "outputs": []
    },
    {
      "cell_type": "code",
      "source": [
        "\n",
        "vaccines = pd.read_csv('https://covid.ourworldindata.org/data/owid-covid-data.csv', sep=',', parse_dates=[3], infer_datetime_format=True)\n",
        "\n",
        "vaccines = vaccines.query('location == \"Chile\"').reset_index(drop=True)\n",
        "vaccines = vaccines[['location', 'population', 'total_vaccinations', 'people_vaccinated', 'people_fully_vaccinated', 'total_boosters', 'date']]\n",
        "\n",
        "vaccines = vaccines.fillna(method='ffill')\n",
        "\n",
        "vaccines = vaccines[(vaccines['date'] >= '2021-01-01') & (vaccines['date'] <= '2021-12-31')].reset_index(drop=True)\n",
        "\n",
        "vaccines = vaccines.rename(columns={'location': 'country',\n",
        "    'total_vaccinations': 'total',\n",
        "    'people_vaccinated': 'one_shot',\n",
        "    'people_fully_vaccinated': 'two_shots',\n",
        "    'total_boosters': 'three_shots'})\n",
        "\n",
        "vaccines['month'] = vaccines['date'].apply(lambda date: date.strftime('%Y-%m'))\n",
        "vaccines['year']  = vaccines['date'].apply(lambda date: date.strftime('%Y'))\n",
        "\n",
        "vaccines['one_shot_perc'] = round(vaccines['one_shot'] / vaccines['population'], 4)\n",
        "vaccines['two_shots_perc'] = round(vaccines['two_shots'] / vaccines['population'], 4)\n",
        "vaccines['three_shots_perc'] = round(vaccines['three_shots'] / vaccines['population'], 4)\n",
        "\n",
        "vaccines['population'] = vaccines['population'].astype('Int64')\n",
        "vaccines['total'] = vaccines['total'].astype('Int64')\n",
        "vaccines['one_shot'] = vaccines['one_shot'].astype('Int64')\n",
        "vaccines['two_shots'] = vaccines['two_shots'].astype('Int64')\n",
        "vaccines['three_shots'] = vaccines['three_shots'].astype('Int64')\n",
        "\n",
        "vaccines = vaccines[['date', 'country', 'population', 'total', 'one_shot',\n",
        "                     'one_shot_perc', 'two_shots', 'two_shots_perc', 'three_shots',\n",
        "                     'three_shots_perc', 'month', 'year']]\n",
        "\n",
        "vaccines.to_csv('./chile-vaccines.csv', sep=',', index=False)"
      ],
      "metadata": {
        "id": "FRlp4OYRVa-6"
      },
      "execution_count": null,
      "outputs": []
    }
  ]
}